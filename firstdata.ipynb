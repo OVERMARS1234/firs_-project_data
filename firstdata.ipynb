{
 "cells": [
  {
   "cell_type": "code",
   "execution_count": 1,
   "id": "b9c2816e-9e64-4982-955b-d0b939a97e64",
   "metadata": {},
   "outputs": [],
   "source": [
    "import pandas as pd"
   ]
  },
  {
   "cell_type": "code",
   "execution_count": 3,
   "id": "b539bfe0-0677-46ae-8d89-db3f4be20deb",
   "metadata": {},
   "outputs": [],
   "source": [
    "import numpy as np"
   ]
  },
  {
   "cell_type": "code",
   "execution_count": 9,
   "id": "1e58c6e7-35aa-49ec-9e71-57a134891086",
   "metadata": {},
   "outputs": [
    {
     "data": {
      "text/html": [
       "<div>\n",
       "<style scoped>\n",
       "    .dataframe tbody tr th:only-of-type {\n",
       "        vertical-align: middle;\n",
       "    }\n",
       "\n",
       "    .dataframe tbody tr th {\n",
       "        vertical-align: top;\n",
       "    }\n",
       "\n",
       "    .dataframe thead th {\n",
       "        text-align: right;\n",
       "    }\n",
       "</style>\n",
       "<table border=\"1\" class=\"dataframe\">\n",
       "  <thead>\n",
       "    <tr style=\"text-align: right;\">\n",
       "      <th></th>\n",
       "      <th>Pays</th>\n",
       "      <th>Age</th>\n",
       "      <th>Genre</th>\n",
       "      <th>Dépenses des clients</th>\n",
       "    </tr>\n",
       "  </thead>\n",
       "  <tbody>\n",
       "    <tr>\n",
       "      <th>0</th>\n",
       "      <td>France</td>\n",
       "      <td>32</td>\n",
       "      <td>Female</td>\n",
       "      <td>150.50</td>\n",
       "    </tr>\n",
       "    <tr>\n",
       "      <th>1</th>\n",
       "      <td>Germany</td>\n",
       "      <td>45</td>\n",
       "      <td>Male</td>\n",
       "      <td>200.75</td>\n",
       "    </tr>\n",
       "    <tr>\n",
       "      <th>2</th>\n",
       "      <td>Spain</td>\n",
       "      <td>28</td>\n",
       "      <td>Female</td>\n",
       "      <td>75.25</td>\n",
       "    </tr>\n",
       "    <tr>\n",
       "      <th>3</th>\n",
       "      <td>Italy</td>\n",
       "      <td>39</td>\n",
       "      <td>Male</td>\n",
       "      <td>180.00</td>\n",
       "    </tr>\n",
       "    <tr>\n",
       "      <th>4</th>\n",
       "      <td>UK</td>\n",
       "      <td>52</td>\n",
       "      <td>Female</td>\n",
       "      <td>250.30</td>\n",
       "    </tr>\n",
       "    <tr>\n",
       "      <th>...</th>\n",
       "      <td>...</td>\n",
       "      <td>...</td>\n",
       "      <td>...</td>\n",
       "      <td>...</td>\n",
       "    </tr>\n",
       "    <tr>\n",
       "      <th>60</th>\n",
       "      <td>Digital Realm</td>\n",
       "      <td>NaN</td>\n",
       "      <td>AI</td>\n",
       "      <td>1010101.01</td>\n",
       "    </tr>\n",
       "    <tr>\n",
       "      <th>61</th>\n",
       "      <td>Multiverse</td>\n",
       "      <td>∞</td>\n",
       "      <td>Non-Binary</td>\n",
       "      <td>π</td>\n",
       "    </tr>\n",
       "    <tr>\n",
       "      <th>62</th>\n",
       "      <td>Error</td>\n",
       "      <td>NaN</td>\n",
       "      <td>404</td>\n",
       "      <td>NaN</td>\n",
       "    </tr>\n",
       "    <tr>\n",
       "      <th>63</th>\n",
       "      <td>Greece, Italy</td>\n",
       "      <td>25;30</td>\n",
       "      <td>Male;Female</td>\n",
       "      <td>100+200</td>\n",
       "    </tr>\n",
       "    <tr>\n",
       "      <th>64</th>\n",
       "      <td>United  Kingdom</td>\n",
       "      <td>Not Available</td>\n",
       "      <td>Other</td>\n",
       "      <td>Priceless</td>\n",
       "    </tr>\n",
       "  </tbody>\n",
       "</table>\n",
       "<p>65 rows × 4 columns</p>\n",
       "</div>"
      ],
      "text/plain": [
       "                 Pays           Age         Genre Dépenses des clients\n",
       "0              France             32       Female               150.50\n",
       "1             Germany             45         Male               200.75\n",
       "2               Spain             28       Female                75.25\n",
       "3               Italy             39         Male               180.00\n",
       "4                  UK             52       Female               250.30\n",
       "..                ...            ...          ...                  ...\n",
       "60      Digital Realm            NaN           AI           1010101.01\n",
       "61         Multiverse              ∞   Non-Binary                    π\n",
       "62              Error            NaN          404                  NaN\n",
       "63      Greece, Italy          25;30  Male;Female              100+200\n",
       "64   United  Kingdom   Not Available        Other            Priceless\n",
       "\n",
       "[65 rows x 4 columns]"
      ]
     },
     "execution_count": 9,
     "metadata": {},
     "output_type": "execute_result"
    }
   ],
   "source": [
    "pd.read_excel(r\"C:\\Users\\OVERMARS\\Downloads\\data-sell4all.xlsx\")"
   ]
  },
  {
   "cell_type": "code",
   "execution_count": 12,
   "id": "af13181c-ba63-4ec8-b2f7-8b4a83a4c738",
   "metadata": {},
   "outputs": [],
   "source": [
    "import matplotlib.pyplot as plt"
   ]
  },
  {
   "cell_type": "code",
   "execution_count": null,
   "id": "95ba5f16-cc77-4807-a515-da8e403a05ad",
   "metadata": {},
   "outputs": [],
   "source": []
  },
  {
   "cell_type": "code",
   "execution_count": 13,
   "id": "5b7a2493-002f-401b-9c02-358ab82a0617",
   "metadata": {},
   "outputs": [
    {
     "data": {
      "text/html": [
       "<div>\n",
       "<style scoped>\n",
       "    .dataframe tbody tr th:only-of-type {\n",
       "        vertical-align: middle;\n",
       "    }\n",
       "\n",
       "    .dataframe tbody tr th {\n",
       "        vertical-align: top;\n",
       "    }\n",
       "\n",
       "    .dataframe thead th {\n",
       "        text-align: right;\n",
       "    }\n",
       "</style>\n",
       "<table border=\"1\" class=\"dataframe\">\n",
       "  <thead>\n",
       "    <tr style=\"text-align: right;\">\n",
       "      <th></th>\n",
       "      <th>Pays</th>\n",
       "      <th>Age</th>\n",
       "      <th>Genre</th>\n",
       "      <th>Dépenses des clients</th>\n",
       "    </tr>\n",
       "  </thead>\n",
       "  <tbody>\n",
       "    <tr>\n",
       "      <th>0</th>\n",
       "      <td>France</td>\n",
       "      <td>32</td>\n",
       "      <td>Female</td>\n",
       "      <td>150.50</td>\n",
       "    </tr>\n",
       "    <tr>\n",
       "      <th>1</th>\n",
       "      <td>Germany</td>\n",
       "      <td>45</td>\n",
       "      <td>Male</td>\n",
       "      <td>200.75</td>\n",
       "    </tr>\n",
       "    <tr>\n",
       "      <th>2</th>\n",
       "      <td>Spain</td>\n",
       "      <td>28</td>\n",
       "      <td>Female</td>\n",
       "      <td>75.25</td>\n",
       "    </tr>\n",
       "    <tr>\n",
       "      <th>3</th>\n",
       "      <td>Italy</td>\n",
       "      <td>39</td>\n",
       "      <td>Male</td>\n",
       "      <td>180.00</td>\n",
       "    </tr>\n",
       "    <tr>\n",
       "      <th>4</th>\n",
       "      <td>UK</td>\n",
       "      <td>52</td>\n",
       "      <td>Female</td>\n",
       "      <td>250.30</td>\n",
       "    </tr>\n",
       "    <tr>\n",
       "      <th>...</th>\n",
       "      <td>...</td>\n",
       "      <td>...</td>\n",
       "      <td>...</td>\n",
       "      <td>...</td>\n",
       "    </tr>\n",
       "    <tr>\n",
       "      <th>60</th>\n",
       "      <td>Digital Realm</td>\n",
       "      <td>NaN</td>\n",
       "      <td>AI</td>\n",
       "      <td>1010101.01</td>\n",
       "    </tr>\n",
       "    <tr>\n",
       "      <th>61</th>\n",
       "      <td>Multiverse</td>\n",
       "      <td>∞</td>\n",
       "      <td>Non-Binary</td>\n",
       "      <td>π</td>\n",
       "    </tr>\n",
       "    <tr>\n",
       "      <th>62</th>\n",
       "      <td>Error</td>\n",
       "      <td>NaN</td>\n",
       "      <td>404</td>\n",
       "      <td>NaN</td>\n",
       "    </tr>\n",
       "    <tr>\n",
       "      <th>63</th>\n",
       "      <td>Greece, Italy</td>\n",
       "      <td>25;30</td>\n",
       "      <td>Male;Female</td>\n",
       "      <td>100+200</td>\n",
       "    </tr>\n",
       "    <tr>\n",
       "      <th>64</th>\n",
       "      <td>United  Kingdom</td>\n",
       "      <td>Not Available</td>\n",
       "      <td>Other</td>\n",
       "      <td>Priceless</td>\n",
       "    </tr>\n",
       "  </tbody>\n",
       "</table>\n",
       "<p>65 rows × 4 columns</p>\n",
       "</div>"
      ],
      "text/plain": [
       "                 Pays           Age         Genre Dépenses des clients\n",
       "0              France             32       Female               150.50\n",
       "1             Germany             45         Male               200.75\n",
       "2               Spain             28       Female                75.25\n",
       "3               Italy             39         Male               180.00\n",
       "4                  UK             52       Female               250.30\n",
       "..                ...            ...          ...                  ...\n",
       "60      Digital Realm            NaN           AI           1010101.01\n",
       "61         Multiverse              ∞   Non-Binary                    π\n",
       "62              Error            NaN          404                  NaN\n",
       "63      Greece, Italy          25;30  Male;Female              100+200\n",
       "64   United  Kingdom   Not Available        Other            Priceless\n",
       "\n",
       "[65 rows x 4 columns]"
      ]
     },
     "execution_count": 13,
     "metadata": {},
     "output_type": "execute_result"
    }
   ],
   "source": [
    "pd.read_excel(r\"C:\\Users\\OVERMARS\\Downloads\\data-sell4all.xlsx\")"
   ]
  },
  {
   "cell_type": "code",
   "execution_count": 3,
   "id": "20a35b71-45ff-4d4b-a140-697d55d0e214",
   "metadata": {},
   "outputs": [],
   "source": [
    "import pandas as pd"
   ]
  },
  {
   "cell_type": "code",
   "execution_count": 5,
   "id": "a2010c31-4641-460d-9361-3a5e2af933eb",
   "metadata": {},
   "outputs": [
    {
     "data": {
      "text/html": [
       "<div>\n",
       "<style scoped>\n",
       "    .dataframe tbody tr th:only-of-type {\n",
       "        vertical-align: middle;\n",
       "    }\n",
       "\n",
       "    .dataframe tbody tr th {\n",
       "        vertical-align: top;\n",
       "    }\n",
       "\n",
       "    .dataframe thead th {\n",
       "        text-align: right;\n",
       "    }\n",
       "</style>\n",
       "<table border=\"1\" class=\"dataframe\">\n",
       "  <thead>\n",
       "    <tr style=\"text-align: right;\">\n",
       "      <th></th>\n",
       "      <th>Pays</th>\n",
       "      <th>Age</th>\n",
       "      <th>Genre</th>\n",
       "      <th>Dépenses des clients</th>\n",
       "    </tr>\n",
       "  </thead>\n",
       "  <tbody>\n",
       "    <tr>\n",
       "      <th>0</th>\n",
       "      <td>France</td>\n",
       "      <td>32</td>\n",
       "      <td>Female</td>\n",
       "      <td>150.50</td>\n",
       "    </tr>\n",
       "    <tr>\n",
       "      <th>1</th>\n",
       "      <td>Germany</td>\n",
       "      <td>45</td>\n",
       "      <td>Male</td>\n",
       "      <td>200.75</td>\n",
       "    </tr>\n",
       "    <tr>\n",
       "      <th>2</th>\n",
       "      <td>Spain</td>\n",
       "      <td>28</td>\n",
       "      <td>Female</td>\n",
       "      <td>75.25</td>\n",
       "    </tr>\n",
       "    <tr>\n",
       "      <th>3</th>\n",
       "      <td>Italy</td>\n",
       "      <td>39</td>\n",
       "      <td>Male</td>\n",
       "      <td>180.00</td>\n",
       "    </tr>\n",
       "    <tr>\n",
       "      <th>4</th>\n",
       "      <td>UK</td>\n",
       "      <td>52</td>\n",
       "      <td>Female</td>\n",
       "      <td>250.30</td>\n",
       "    </tr>\n",
       "    <tr>\n",
       "      <th>...</th>\n",
       "      <td>...</td>\n",
       "      <td>...</td>\n",
       "      <td>...</td>\n",
       "      <td>...</td>\n",
       "    </tr>\n",
       "    <tr>\n",
       "      <th>60</th>\n",
       "      <td>Digital Realm</td>\n",
       "      <td>NaN</td>\n",
       "      <td>AI</td>\n",
       "      <td>1010101.01</td>\n",
       "    </tr>\n",
       "    <tr>\n",
       "      <th>61</th>\n",
       "      <td>Multiverse</td>\n",
       "      <td>∞</td>\n",
       "      <td>Non-Binary</td>\n",
       "      <td>π</td>\n",
       "    </tr>\n",
       "    <tr>\n",
       "      <th>62</th>\n",
       "      <td>Error</td>\n",
       "      <td>NaN</td>\n",
       "      <td>404</td>\n",
       "      <td>NaN</td>\n",
       "    </tr>\n",
       "    <tr>\n",
       "      <th>63</th>\n",
       "      <td>Greece, Italy</td>\n",
       "      <td>25;30</td>\n",
       "      <td>Male;Female</td>\n",
       "      <td>100+200</td>\n",
       "    </tr>\n",
       "    <tr>\n",
       "      <th>64</th>\n",
       "      <td>United  Kingdom</td>\n",
       "      <td>Not Available</td>\n",
       "      <td>Other</td>\n",
       "      <td>Priceless</td>\n",
       "    </tr>\n",
       "  </tbody>\n",
       "</table>\n",
       "<p>65 rows × 4 columns</p>\n",
       "</div>"
      ],
      "text/plain": [
       "                 Pays           Age         Genre Dépenses des clients\n",
       "0              France             32       Female               150.50\n",
       "1             Germany             45         Male               200.75\n",
       "2               Spain             28       Female                75.25\n",
       "3               Italy             39         Male               180.00\n",
       "4                  UK             52       Female               250.30\n",
       "..                ...            ...          ...                  ...\n",
       "60      Digital Realm            NaN           AI           1010101.01\n",
       "61         Multiverse              ∞   Non-Binary                    π\n",
       "62              Error            NaN          404                  NaN\n",
       "63      Greece, Italy          25;30  Male;Female              100+200\n",
       "64   United  Kingdom   Not Available        Other            Priceless\n",
       "\n",
       "[65 rows x 4 columns]"
      ]
     },
     "execution_count": 5,
     "metadata": {},
     "output_type": "execute_result"
    }
   ],
   "source": [
    "pd.read_excel(r\"C:\\Users\\OVERMARS\\Downloads\\data-sell4all.xlsx\")"
   ]
  },
  {
   "cell_type": "code",
   "execution_count": 6,
   "id": "278f2dc9-59b6-4c2d-8bec-b80f4f81cdd1",
   "metadata": {},
   "outputs": [],
   "source": [
    "import pandas as pd\n"
   ]
  },
  {
   "cell_type": "code",
   "execution_count": 7,
   "id": "768306be-c435-4b46-bb28-c4114d0f43b2",
   "metadata": {},
   "outputs": [],
   "source": [
    "# Chemin du fichier Excel\n",
    "file_path = r\"C:\\Users\\OVERMARS\\Downloads\\data-sell4all.xlsx\"\n",
    "\n",
    "# Lire les données depuis le fichier Excel\n",
    "df = pd.read_excel(file_path)\n"
   ]
  },
  {
   "cell_type": "code",
   "execution_count": 8,
   "id": "7b29cea5-461f-4a6f-9c85-843f918f4306",
   "metadata": {},
   "outputs": [
    {
     "name": "stdout",
     "output_type": "stream",
     "text": [
      "      Pays  Age    Genre Dépenses des clients\n",
      "0   France    32  Female               150.50\n",
      "1  Germany    45    Male               200.75\n",
      "2    Spain    28  Female                75.25\n",
      "3    Italy    39    Male               180.00\n",
      "4       UK    52  Female               250.30\n"
     ]
    }
   ],
   "source": [
    "# Afficher les 5 premières lignes du fichier Excel\n",
    "print(df.head())\n"
   ]
  },
  {
   "cell_type": "code",
   "execution_count": 9,
   "id": "3d7ef1c1-bfe8-4335-a65a-a1ab3fdf3115",
   "metadata": {},
   "outputs": [],
   "source": [
    "import pandas as pd"
   ]
  },
  {
   "cell_type": "markdown",
   "id": "d61bdfb5-625c-4500-a50c-12d549afbda1",
   "metadata": {},
   "source": [
    "df = pd.read_excel(r'C:\\Users\\OVERMARS\\Downloads\\data-sell4all.xlsx')"
   ]
  },
  {
   "cell_type": "code",
   "execution_count": 13,
   "id": "f1e8531a-3f40-4ae3-8000-6c1b6e450afe",
   "metadata": {},
   "outputs": [
    {
     "name": "stdout",
     "output_type": "stream",
     "text": [
      "Nombre de lignes : 65\n"
     ]
    }
   ],
   "source": [
    "nombre_lignes = df.shape[0]\n",
    "print(f\"Nombre de lignes : {nombre_lignes}\")"
   ]
  },
  {
   "cell_type": "code",
   "execution_count": 14,
   "id": "b71f8842-6fb1-4ec9-b887-20e52cc287cf",
   "metadata": {},
   "outputs": [
    {
     "name": "stdout",
     "output_type": "stream",
     "text": [
      "Colonnes : ['Pays', ' Age ', 'Genre', 'Dépenses des clients']\n"
     ]
    }
   ],
   "source": [
    "colonnes = df.columns.tolist()\n",
    "print(f\"Colonnes : {colonnes}\")"
   ]
  },
  {
   "cell_type": "markdown",
   "id": "4112c379-06df-40e8-bed8-bf06e4d70a6c",
   "metadata": {},
   "source": [
    "types_donnees = df.dtypes\n",
    "print(\"Types de données des champs :\")\n",
    "for colonne, type_donnee in types_donnees.items():\n",
    "    print(f\"  {colonne} : {type_donnee}\")"
   ]
  },
  {
   "cell_type": "markdown",
   "id": "06181f8b-a9a6-448f-9f9c-dc30c7ec350b",
   "metadata": {},
   "source": [
    " Résumé Technique du Fichier Excel\r\n",
    "\r\n",
    "Nous avons chargé le fichier Excel `data-sell4all.xlsx` dans un DataFrame Pandas. Voici les détails techniques du fichier :### 1. Nombre de ligne\n",
    "- **Nombre de lnes** : 65  \r\n",
    "  Ce nombre représente le total des lignes de données dans le fichier Ex.\r\n",
    "\r\n",
    "### 2. Colnes\r\n",
    "- *olonnes** :  \r\n",
    "  Le fichier contient les colonnes suivantes :\r\n",
    "  - `Pays`\r\n",
    "  - ` Age `\r\n",
    "  - `Genre`\r\n",
    "  - `Dépenses  clients`\r\n",
    "\r\n",
    "### 3. Types de donné des champs\r\n",
    "- **Types de dnées des champs** :  \r\n",
    "  Les types de données de chaque colonne sont les suivants :\r\n",
    "  - `Pays` : `object`  \r\n",
    "    Cette colonne contient des chaînes de caractères représentant les pays.\r\n",
    "  - ` Age ` : `object`  \r\n",
    "    Cette colonne contient des valeurs qui sont actuellement des chaînes de caractères mais qui devraient probablement être converties en entiers pour une analyse appropriée.\r\n",
    "  - `Genre` : `object`  \r\n",
    "    Cette colonne contient des chaînes de caractères représentant le genre des individus.\r\n",
    "  - `Dépenses des clients` : `object`  \r\n",
    "    Cette colonne contient des valeurs qui sont actuellement des chaînes de caractères représentant les dépenses. Il serait utile de convertir cette colonne en type numérique pour des calculs et analyses.\r\n",
    "\r\n",
    "Ces informations vous permettent de comprendre la structure des données et d'identifier les éventuelles conversions nécessaires pour une analyse plus approfondie.\r\n"
   ]
  },
  {
   "cell_type": "code",
   "execution_count": 16,
   "id": "ee865bf6-a2ba-4942-ac76-3ddefea5a094",
   "metadata": {},
   "outputs": [],
   "source": [
    "import pandas as pd"
   ]
  },
  {
   "cell_type": "code",
   "execution_count": 17,
   "id": "4db634c9-956a-4919-8030-cd1bd0400875",
   "metadata": {},
   "outputs": [],
   "source": [
    "df = pd.read_excel(r'C:\\Users\\OVERMARS\\Downloads\\data-sell4all.xlsx')"
   ]
  },
  {
   "cell_type": "code",
   "execution_count": 19,
   "id": "cbc4dafa-eb22-4cda-a830-697ebc96354d",
   "metadata": {},
   "outputs": [],
   "source": [
    "# Convertir les colonnes en types numériques appropriés\n",
    "df[' Age '] = pd.to_numeric(df[' Age '], errors='coerce')  # Convertir Âge en nombre\n",
    "df['Dépenses des clients'] = pd.to_numeric(df['Dépenses des clients'], errors='coerce')  # Convertir Dépenses en nombre"
   ]
  },
  {
   "cell_type": "code",
   "execution_count": 21,
   "id": "87b6200d-86fb-4c93-b696-0b544511db36",
   "metadata": {},
   "outputs": [],
   "source": [
    "# Calculer la médiane et la moyenne des colonnes\n",
    "moyenne_age = df[' Age '].mean()\n",
    "mediane_age = df[' Age '].median()\n",
    "moyenne_depenses = df['Dépenses des clients'].mean()\n",
    "mediane_depenses = df['Dépenses des clients'].median()"
   ]
  },
  {
   "cell_type": "code",
   "execution_count": 22,
   "id": "1d2c7dfe-ac64-48fd-a0e6-9cec0a9a5490",
   "metadata": {},
   "outputs": [
    {
     "name": "stdout",
     "output_type": "stream",
     "text": [
      "Moyenne de l'âge : 52.42\n",
      "Médiane de l'âge : 36.00\n",
      "Moyenne des dépenses des clients : 34811.73\n",
      "Médiane des dépenses des clients : 167.50\n"
     ]
    }
   ],
   "source": [
    "# Afficher les résultats\n",
    "print(f\"Moyenne de l'âge : {moyenne_age:.2f}\")\n",
    "print(f\"Médiane de l'âge : {mediane_age:.2f}\")\n",
    "\n",
    "print(f\"Moyenne des dépenses des clients : {moyenne_depenses:.2f}\")\n",
    "print(f\"Médiane des dépenses des clients : {mediane_depenses:.2f}\")"
   ]
  },
  {
   "cell_type": "code",
   "execution_count": 23,
   "id": "531cafd4-3521-43e1-aa78-d61994e239e1",
   "metadata": {},
   "outputs": [],
   "source": [
    "#parte2 \n",
    "import pandas as pd\n"
   ]
  },
  {
   "cell_type": "code",
   "execution_count": 24,
   "id": "c345cf53-36ba-4895-9577-3f7366a4adca",
   "metadata": {},
   "outputs": [],
   "source": [
    "import matplotlib.pyplot as plt"
   ]
  },
  {
   "cell_type": "code",
   "execution_count": 25,
   "id": "65d0557e-b2d4-451f-be9b-4ecf99822880",
   "metadata": {},
   "outputs": [],
   "source": [
    "# Charger le fichier Excel dans un DataFrame\n",
    "df = pd.read_excel(r'C:\\Users\\OVERMARS\\Downloads\\data-sell4all.xlsx')"
   ]
  },
  {
   "cell_type": "code",
   "execution_count": 26,
   "id": "511a171e-bf80-45ea-a4af-662e56d9a0a5",
   "metadata": {},
   "outputs": [],
   "source": [
    "# Convertir la colonne 'Dépenses des clients' en numérique\n",
    "df['Dépenses des clients'] = pd.to_numeric(df['Dépenses des clients'], errors='coerce')"
   ]
  },
  {
   "cell_type": "code",
   "execution_count": 27,
   "id": "03e296bf-ba13-48b0-a0ee-d931d1cf5c22",
   "metadata": {},
   "outputs": [],
   "source": [
    "# Agréger les dépenses par pays\n",
    "depenses_par_pays = df.groupby('Pays')['Dépenses des clients'].sum()"
   ]
  },
  {
   "cell_type": "code",
   "execution_count": 28,
   "id": "11c6d1c0-17bc-45a3-a405-010ca0b240c9",
   "metadata": {},
   "outputs": [
    {
     "data": {
      "image/png": "[encoded data removed]",
      "text/plain": [
       "<Figure size 1000x600 with 1 Axes>"
      ]
     },
     "metadata": {},
     "output_type": "display_data"
    }
   ],
   "source": [
    "# Créer le graphique à barres\n",
    "plt.figure(figsize=(10, 6))\n",
    "depenses_par_pays.plot(kind='bar', color='skyblue')\n",
    "plt.title('Dépenses des Clients par Pays')\n",
    "plt.xlabel('Pays')\n",
    "plt.ylabel('Dépenses Totales')\n",
    "plt.xticks(rotation=45, ha='right')\n",
    "plt.grid(axis='y', linestyle='--', alpha=0.7)"
   ]
  },
  {
   "cell_type": "code",
   "execution_count": 29,
   "id": "4b7ec845-05cf-4802-b4c1-ac335e71fd67",
   "metadata": {},
   "outputs": [
    {
     "data": {
      "text/plain": [
       "<Figure size 640x480 with 0 Axes>"
      ]
     },
     "metadata": {},
     "output_type": "display_data"
    }
   ],
   "source": [
    "# Afficher le graphique\n",
    "plt.tight_layout()\n",
    "plt.show()"
   ]
  },
  {
   "cell_type": "code",
   "execution_count": 30,
   "id": "5fbaf105-4adf-42de-be6c-d5385e31fdea",
   "metadata": {},
   "outputs": [],
   "source": [
    "import pandas as pd"
   ]
  },
  {
   "cell_type": "code",
   "execution_count": 31,
   "id": "bf301c4c-36b8-4dd4-944e-508cb4f71aeb",
   "metadata": {},
   "outputs": [],
   "source": [
    "# Charger le fichier Excel dans un DataFrame\n",
    "df = pd.read_excel(r'C:\\Users\\OVERMARS\\Downloads\\data-sell4all.xlsx')"
   ]
  },
  {
   "cell_type": "code",
   "execution_count": 32,
   "id": "10b5c8e3-4444-41f3-900a-ece6bd17f927",
   "metadata": {},
   "outputs": [],
   "source": [
    "# Convertir la colonne 'Dépenses des clients' en numérique\n",
    "df['Dépenses des clients'] = pd.to_numeric(df['Dépenses des clients'], errors='coerce')"
   ]
  },
  {
   "cell_type": "code",
   "execution_count": 33,
   "id": "bf013974-852e-42d5-8c98-b6968a41d3cc",
   "metadata": {},
   "outputs": [],
   "source": [
    "# Supprimer les lignes où les dépenses sont inférieures à 10 €\n",
    "df_nettoye = df[df['Dépenses des clients'] >= 10]"
   ]
  },
  {
   "cell_type": "code",
   "execution_count": 34,
   "id": "dd00920e-1daf-4ed8-962b-885ad3b38a22",
   "metadata": {},
   "outputs": [
    {
     "name": "stdout",
     "output_type": "stream",
     "text": [
      "             Pays  Age       Genre  Dépenses des clients\n",
      "0          France    32     Female                150.50\n",
      "1         Germany    45       Male                200.75\n",
      "2           Spain    28     Female                 75.25\n",
      "3           Italy    39       Male                180.00\n",
      "4              UK    52     Female                250.30\n",
      "5          France    22       Male                 90.00\n",
      "6         Germany    36     Female                175.50\n",
      "7           Spain    41       Male                120.75\n",
      "8           Italy    29     Female                 95.25\n",
      "9              UK    48       Male                220.00\n",
      "10         France    35     Female                160.25\n",
      "11        Germany    27       Male                 85.50\n",
      "12          Spain    50     Female                190.75\n",
      "13          Italy    33       Male                140.00\n",
      "14             UK    44     Female                210.50\n",
      "15         France    31       Male                130.25\n",
      "16        Germany    38     Female                170.00\n",
      "18          Italy    47     Female                200.25\n",
      "19             UK    30       Male                110.50\n",
      "20         France    42        NaN                180.75\n",
      "21        Germany    29       Male                100.25\n",
      "22          Spain    55     Female                230.00\n",
      "23          Italy    36       Male                150.75\n",
      "24             UK    25     Female                 80.50\n",
      "25         France    49       Male                215.25\n",
      "26        Germany    34     Female                145.00\n",
      "27          Spain    40       Male                175.50\n",
      "28          Italy    23     Female                 70.25\n",
      "29             UK    51       Male                240.75\n",
      "30         France    37     Female                165.00\n",
      "31        Germany    43       Male                195.25\n",
      "32          Spain    28     Female                 85.75\n",
      "33          Italy    46       Male                205.50\n",
      "34             UK    33     Female                135.25\n",
      "35         France    30       Male                120.00\n",
      "36        Germany    52     Female                225.75\n",
      "37          Spain    35       Male                155.50\n",
      "38          Italy    27     Female                 90.25\n",
      "39             UK    48       Male                210.00\n",
      "40         France    39     Female                170.25\n",
      "41        Germany    31       Male                125.75\n",
      "42          Spain    44     Female                190.00\n",
      "43          Italy    25       Male                 75.50\n",
      "44             UK    50     Female                220.25\n",
      "45         France   NaN       Male                160.75\n",
      "46        Germany    41     Female                185.00\n",
      "47          Spain    29       Male                105.25\n",
      "48          Italy    53     Female                235.50\n",
      "49             UK    32       Male                140.25\n",
      "50            USA    28     Female                180.00\n",
      "52      Australia    39     Female                210.50\n",
      "53          Japan    33       Male                145.75\n",
      "54         Brazil    47     Female                195.25\n",
      "55           Mars  -100      Alien             999999.99\n",
      "57       Atlantis  1000  Merperson                500.00\n",
      "60  Digital Realm   NaN         AI            1010101.01\n"
     ]
    }
   ],
   "source": [
    "# Afficher le DataFrame nettoyé\n",
    "print(df_nettoye)"
   ]
  },
  {
   "cell_type": "code",
   "execution_count": 36,
   "id": "9b8dcdf6-c05c-4e26-a2f4-6d868731cc05",
   "metadata": {},
   "outputs": [],
   "source": [
    "import pandas as pd"
   ]
  },
  {
   "cell_type": "code",
   "execution_count": 37,
   "id": "c1d59871-78cf-4c53-bb0b-56e09e43d3e2",
   "metadata": {},
   "outputs": [],
   "source": [
    "# Charger le fichier Excel dans un DataFrame\n",
    "df = pd.read_excel(r'C:\\Users\\OVERMARS\\Downloads\\data-sell4all.xlsx')"
   ]
  },
  {
   "cell_type": "code",
   "execution_count": 38,
   "id": "9eee562e-217c-4feb-9484-55a9cd5704c3",
   "metadata": {},
   "outputs": [],
   "source": [
    "# Convertir la colonne 'Dépenses des clients' en numérique (si nécessaire)\n",
    "df['Dépenses des clients'] = pd.to_numeric(df['Dépenses des clients'], errors='coerce')"
   ]
  },
  {
   "cell_type": "code",
   "execution_count": 39,
   "id": "7529183f-b69f-45d9-bca0-6cdc9d66c94d",
   "metadata": {},
   "outputs": [],
   "source": [
    "# Supprimer les doublons\n",
    "df_sans_doublons = df.drop_duplicates()"
   ]
  },
  {
   "cell_type": "code",
   "execution_count": 40,
   "id": "624c0407-e385-4476-ac55-b50d43dd357f",
   "metadata": {},
   "outputs": [
    {
     "name": "stdout",
     "output_type": "stream",
     "text": [
      "                 Pays           Age         Genre  Dépenses des clients\n",
      "0              France             32       Female                150.50\n",
      "1             Germany             45         Male                200.75\n",
      "2               Spain             28       Female                 75.25\n",
      "3               Italy             39         Male                180.00\n",
      "4                  UK             52       Female                250.30\n",
      "..                ...            ...          ...                   ...\n",
      "60      Digital Realm            NaN           AI            1010101.01\n",
      "61         Multiverse              ∞   Non-Binary                   NaN\n",
      "62              Error            NaN          404                   NaN\n",
      "63      Greece, Italy          25;30  Male;Female                   NaN\n",
      "64   United  Kingdom   Not Available        Other                   NaN\n",
      "\n",
      "[65 rows x 4 columns]\n"
     ]
    }
   ],
   "source": [
    "# Afficher le DataFrame sans doublons\n",
    "print(df_sans_doublons)"
   ]
  },
  {
   "cell_type": "code",
   "execution_count": 41,
   "id": "dc51b2a4-a082-4545-ae88-06a3e34e3273",
   "metadata": {},
   "outputs": [],
   "source": [
    "# Convertir les colonnes en types numériques appropriés\n",
    "df['Dépenses des clients'] = pd.to_numeric(df['Dépenses des clients'], errors='coerce')\n",
    "df[' Age '] = pd.to_numeric(df[' Age '], errors='coerce')"
   ]
  },
  {
   "cell_type": "code",
   "execution_count": 42,
   "id": "67afdc86-087a-4f2a-b64e-a8b496bf2da8",
   "metadata": {},
   "outputs": [],
   "source": [
    "# Supprimer les lignes où les dépenses sont inférieures à 10 €\n",
    "df = df[df['Dépenses des clients'] >= 10]\n"
   ]
  },
  {
   "cell_type": "code",
   "execution_count": 43,
   "id": "606ab8e4-fe01-4119-a8da-f834e19f3667",
   "metadata": {},
   "outputs": [],
   "source": [
    "# Supprimer les doublons\n",
    "df = df.drop_duplicates()"
   ]
  },
  {
   "cell_type": "code",
   "execution_count": 44,
   "id": "0d7578e4-66fb-4ad7-9161-3590270f0092",
   "metadata": {},
   "outputs": [],
   "source": [
    "# Conserver uniquement les colonnes spécifiées\n",
    "colonnes_conservees = ['Pays', ' Age ', 'Genre', 'Dépenses des clients']\n",
    "df_final = df[colonnes_conservees]\n"
   ]
  },
  {
   "cell_type": "code",
   "execution_count": 45,
   "id": "7faf827c-f813-47ff-aa82-6846c841848d",
   "metadata": {},
   "outputs": [],
   "source": [
    "# Écrire les données nettoyées dans un fichier Excel\n",
    "df_final.to_excel(r'C:\\Users\\OVERMARS\\Downloads\\data-sell4all_nettoye.xlsx', index=False)"
   ]
  },
  {
   "cell_type": "code",
   "execution_count": 46,
   "id": "86365309-c981-4a8f-b018-eece6db21612",
   "metadata": {},
   "outputs": [
    {
     "name": "stdout",
     "output_type": "stream",
     "text": [
      "Nombre d'entrées dans l'ensemble de données : 5\n",
      "Nombre de valeurs non nulles par colonne :\n",
      "Pays                    5\n",
      " Age                    5\n",
      "Genre                   5\n",
      "Dépenses des clients    5\n",
      "dtype: int64\n",
      "Types de données des champs :\n",
      "Pays                    object\n",
      " Age                    object\n",
      "Genre                   object\n",
      "Dépenses des clients    object\n",
      "dtype: object\n"
     ]
    }
   ],
   "source": [
    "import pandas as pd\n",
    "\n",
    "# Exemple de données\n",
    "data = {\n",
    "    'Pays': ['France', 'Germany', 'Spain', 'Italy', 'UK'],\n",
    "    ' Age ': ['32', '45', '28', '39', '52'],\n",
    "    'Genre': ['Female', 'Male', 'Female', 'Male', 'Female'],\n",
    "    'Dépenses des clients': ['150.50', '200.75', '75.25', '180.00', '250.30']\n",
    "}\n",
    "df = pd.DataFrame(data)\n",
    "\n",
    "# Nombre d'entrées\n",
    "nombre_lignes = df.shape[0]\n",
    "print(f\"Nombre d'entrées dans l'ensemble de données : {nombre_lignes}\")\n",
    "\n",
    "# Valeurs non nulles\n",
    "non_nuls = df.notnull().sum()\n",
    "print(\"Nombre de valeurs non nulles par colonne :\")\n",
    "print(non_nuls)\n",
    "\n",
    "# Types de données\n",
    "types_donnees = df.dtypes\n",
    "print(\"Types de données des champs :\")\n",
    "print(types_donnees)\n"
   ]
  },
  {
   "cell_type": "code",
   "execution_count": null,
   "id": "0138ebea-7564-4f8c-a316-ac37be95043f",
   "metadata": {},
   "outputs": [],
   "source": []
  },
  {
   "cell_type": "code",
   "execution_count": null,
   "id": "3d5be2fc-2600-43e7-ba01-272be78555e3",
   "metadata": {},
   "outputs": [],
   "source": []
  }
 ],
 "metadata": {
  "kernelspec": {
   "display_name": "Python 3 (ipykernel)",
   "language": "python",
   "name": "python3"
  },
  "language_info": {
   "codemirror_mode": {
    "name": "ipython",
    "version": 3
   },
   "file_extension": ".py",
   "mimetype": "text/x-python",
   "name": "python",
   "nbconvert_exporter": "python",
   "pygments_lexer": "ipython3",
   "version": "3.12.4"
  }
 },
 "nbformat": 4,
 "nbformat_minor": 5
}
